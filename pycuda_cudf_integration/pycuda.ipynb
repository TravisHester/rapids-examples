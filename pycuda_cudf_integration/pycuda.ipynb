{
 "cells": [
  {
   "cell_type": "markdown",
   "id": "804a80f4-ef72-4ab5-846f-d11e4e9d95c4",
   "metadata": {},
   "source": [
    "### Downloading the data"
   ]
  },
  {
   "cell_type": "code",
   "execution_count": null,
   "id": "d321c6c8-206b-484d-a882-63bb75293546",
   "metadata": {},
   "outputs": [],
   "source": [
    "import os\n",
    "import urllib.request\n",
    "\n",
    "data_dir = \"./data/weather/\"\n",
    "if not os.path.exists(data_dir):\n",
    "    print(\"creating weather directory\")\n",
    "    os.system(\"mkdir -p ./data/weather\")\n",
    "\n",
    "# download weather observations\n",
    "base_url = \"ftp://ftp.ncdc.noaa.gov/pub/data/ghcn/daily/by_year/\"\n",
    "years = list(range(2018, 2020))\n",
    "for year in years:\n",
    "    fn = str(year) + \".csv.gz\"\n",
    "    if not os.path.isfile(data_dir + fn):\n",
    "        print(f\"Downloading {base_url+fn} to {data_dir+fn}\")\n",
    "        urllib.request.urlretrieve(base_url + fn, data_dir + fn)\n",
    "\n",
    "# download weather station metadata\n",
    "station_meta_url = (\n",
    "    \"https://www1.ncdc.noaa.gov/pub/data/ghcn/daily/ghcnd-stations.txt\"\n",
    ")\n",
    "if not os.path.isfile(data_dir + \"ghcnd-stations.txt\"):\n",
    "    print(\"Downloading station meta..\")\n",
    "    urllib.request.urlretrieve(\n",
    "        station_meta_url, data_dir + \"ghcnd-stations.txt\"\n",
    "    )"
   ]
  },
  {
   "cell_type": "markdown",
   "id": "c49e0f7f-73be-4269-b367-8cb7822b8e2f",
   "metadata": {},
   "source": [
    "### Loading into cudf\n"
   ]
  },
  {
   "cell_type": "code",
   "execution_count": null,
   "id": "88fd77b3-fee9-411d-9292-4fa8b717cd5c",
   "metadata": {},
   "outputs": [],
   "source": [
    "import cudf\n",
    "import cupy as cp\n",
    "import pycuda.autoprimaryctx\n",
    "\n",
    "column_names = [\n",
    "    \"station_id\", \"date\",\n",
    "    \"type\", \"val\",\n",
    "    \"m_flag\", \"q_flag\",\n",
    "    \"s_flag\", \"obs_time\"\n",
    "]\n",
    "usecols = column_names[0:4]\n",
    "weather_df = cudf.read_csv('data/weather/2018.csv.gz', names=column_names, usecols=usecols)"
   ]
  },
  {
   "cell_type": "code",
   "execution_count": null,
   "id": "3ef5095a-d5a6-4c4f-9e49-16361c3bc5be",
   "metadata": {},
   "outputs": [],
   "source": [
    "weather_df.tail()"
   ]
  },
  {
   "cell_type": "markdown",
   "id": "d0d0c936-6454-4526-b111-b9176e60abe1",
   "metadata": {},
   "source": [
    "### Using a grid stride pattern to double all rainfall measurements"
   ]
  },
  {
   "cell_type": "code",
   "execution_count": null,
   "id": "c2d9dee9-52b9-42c5-a506-8ffd5e73b6eb",
   "metadata": {},
   "outputs": [],
   "source": [
    "rainfall_df = weather_df[weather_df[\"type\"] == \"PRCP\"]"
   ]
  },
  {
   "cell_type": "code",
   "execution_count": null,
   "id": "d95e019f-e9ac-45ba-9db5-7037cd385abc",
   "metadata": {},
   "outputs": [],
   "source": [
    "rainfall_df.tail()"
   ]
  },
  {
   "cell_type": "code",
   "execution_count": null,
   "id": "54d9170e-ab5c-45a4-b0d4-fa38dd52f014",
   "metadata": {},
   "outputs": [],
   "source": [
    "import pycuda.autoprimaryctx\n",
    "from pycuda.compiler import SourceModule\n",
    "\n",
    "mod = SourceModule(\"\"\"\n",
    "    __global__ void doublify(int64_t *a, int N)\n",
    "    {\n",
    "      int stride = blockDim.x * gridDim.x;\n",
    "      for (int i = blockIdx.x * blockDim.x + threadIdx.x; i < N; i += stride) {\n",
    "        if (i < N) {\n",
    "          a[i] *= 2;\n",
    "        }\n",
    "      }\n",
    "    }\n",
    "    \"\"\")\n",
    "func = mod.get_function(\"doublify\")"
   ]
  },
  {
   "cell_type": "code",
   "execution_count": null,
   "id": "f8f6ddaf-b3b1-4783-b8c6-cd8d0633961d",
   "metadata": {},
   "outputs": [],
   "source": [
    "size = cp.int32(len(rainfall_df['val']))\n",
    "\n",
    "func(rainfall_df['val'], size, block=(256,1,1), grid=(4096,))"
   ]
  },
  {
   "cell_type": "code",
   "execution_count": null,
   "id": "a32d0bb4-05f6-4c4c-91fb-74e125e33a49",
   "metadata": {},
   "outputs": [],
   "source": [
    "rainfall_df.tail()"
   ]
  },
  {
   "cell_type": "markdown",
   "id": "44611ab2-d2c0-4518-a1f2-190d703dfb91",
   "metadata": {},
   "source": [
    "### Let's try a more complex operation, converting the measurements to inches"
   ]
  },
  {
   "cell_type": "code",
   "execution_count": null,
   "id": "645c8e26-ab59-4c2a-8dfa-f46eec4c223b",
   "metadata": {},
   "outputs": [],
   "source": [
    "weather_df = cudf.read_csv('data/weather/2018.csv.gz', names=column_names, usecols=usecols)\n",
    "\n",
    "# cast val to float\n",
    "rainfall_df = weather_df[weather_df[\"type\"] == \"PRCP\"].astype({'val': 'float64'})"
   ]
  },
  {
   "cell_type": "code",
   "execution_count": null,
   "id": "6b678cd5-3ab3-420d-80b6-6264417542b0",
   "metadata": {},
   "outputs": [],
   "source": [
    "rainfall_df.tail()"
   ]
  },
  {
   "cell_type": "code",
   "execution_count": null,
   "id": "5afd1261-4775-43a2-a8a3-1739697d8098",
   "metadata": {},
   "outputs": [],
   "source": [
    "mod2 = SourceModule(\"\"\"\n",
    "    static constexpr float mm_to_inches_factor = 0.0393701;\n",
    "\n",
    "    __global__ void mm_to_inches(double *a, int N)\n",
    "    {\n",
    "      int stride = blockDim.x * gridDim.x;\n",
    "      for (int i = blockIdx.x * blockDim.x + threadIdx.x; i < N; i += stride) {\n",
    "        if (i < N) {\n",
    "          a[i] = a[i] * mm_to_inches_factor * 0.1;\n",
    "        }\n",
    "      }\n",
    "    }\n",
    "    \"\"\")\n",
    "func = mod2.get_function(\"mm_to_inches\")"
   ]
  },
  {
   "cell_type": "code",
   "execution_count": null,
   "id": "698be71b-a2bb-4f84-bd7c-583435a67a7c",
   "metadata": {},
   "outputs": [],
   "source": [
    "func(rainfall_df['val'], size, block=(256,1,1), grid=(4096,))"
   ]
  },
  {
   "cell_type": "code",
   "execution_count": null,
   "id": "ed86174a-74a4-402e-8fae-68a18bd8fe46",
   "metadata": {},
   "outputs": [],
   "source": [
    "rainfall_df.tail()"
   ]
  },
  {
   "cell_type": "markdown",
   "id": "b7bd3345-0b60-4e1a-b80f-77a966a7a035",
   "metadata": {},
   "source": [
    "### Integration with external libraries, generating a column of random values"
   ]
  },
  {
   "cell_type": "code",
   "execution_count": null,
   "id": "1dc56f61-b02b-413f-af59-60d6fd0bd372",
   "metadata": {},
   "outputs": [],
   "source": [
    "weather_df = cudf.read_csv('data/weather/2018.csv.gz', names=column_names, usecols=usecols)"
   ]
  },
  {
   "cell_type": "code",
   "execution_count": 3,
   "id": "bdcd980e-e11f-4c82-a5d5-7c5b2f23cb68",
   "metadata": {},
   "outputs": [],
   "source": [
    "size = cp.int32(len(weather_df))"
   ]
  },
  {
   "cell_type": "code",
   "execution_count": 4,
   "id": "1de39fcc-8081-4541-b4a7-5686bc4256b8",
   "metadata": {},
   "outputs": [],
   "source": [
    "mod3 = SourceModule('''\n",
    "#include <thrust/random.h>\n",
    "\n",
    "extern \"C\" {\n",
    "\n",
    "    __global__ void random_column(double* a, int N)\n",
    "    {\n",
    "      thrust::default_random_engine rng;\n",
    "      \n",
    "      int stride = blockDim.x * gridDim.x;\n",
    "      for (int i = blockIdx.x * blockDim.x + threadIdx.x; i < N; i += stride) {\n",
    "        if (i < N) {\n",
    "          rng.discard(i);\n",
    "          thrust::uniform_real_distribution<float> rand01(0,1);\n",
    "          double r = rand01(rng);\n",
    "          a[i] = r;\n",
    "        }\n",
    "      }\n",
    "    }\n",
    "}\n",
    "\n",
    "''', no_extern_c=True)"
   ]
  },
  {
   "cell_type": "code",
   "execution_count": 5,
   "id": "46f43ee1-592f-4014-b6f7-35e695ebd692",
   "metadata": {},
   "outputs": [],
   "source": [
    "func = mod3.get_function(\"random_column\")"
   ]
  },
  {
   "cell_type": "code",
   "execution_count": 7,
   "id": "97820dcb-3183-4a2d-b591-f5844b496769",
   "metadata": {},
   "outputs": [],
   "source": [
    "weather_df['random_col'] = cp.zeros(len(weather_df))"
   ]
  },
  {
   "cell_type": "code",
   "execution_count": 8,
   "id": "fd85302b-5685-462a-9fca-2ae36ed90d5f",
   "metadata": {},
   "outputs": [],
   "source": [
    "func(weather_df['random_col'], size, block=(256,1,1), grid=(4096,))"
   ]
  },
  {
   "cell_type": "code",
   "execution_count": 10,
   "id": "b2dfc16b-5b5b-4af1-9752-37922d95bc9b",
   "metadata": {},
   "outputs": [
    {
     "data": {
      "text/html": [
       "<div>\n",
       "<style scoped>\n",
       "    .dataframe tbody tr th:only-of-type {\n",
       "        vertical-align: middle;\n",
       "    }\n",
       "\n",
       "    .dataframe tbody tr th {\n",
       "        vertical-align: top;\n",
       "    }\n",
       "\n",
       "    .dataframe thead th {\n",
       "        text-align: right;\n",
       "    }\n",
       "</style>\n",
       "<table border=\"1\" class=\"dataframe\">\n",
       "  <thead>\n",
       "    <tr style=\"text-align: right;\">\n",
       "      <th></th>\n",
       "      <th>station_id</th>\n",
       "      <th>date</th>\n",
       "      <th>type</th>\n",
       "      <th>val</th>\n",
       "      <th>random_col</th>\n",
       "    </tr>\n",
       "  </thead>\n",
       "  <tbody>\n",
       "    <tr>\n",
       "      <th>0</th>\n",
       "      <td>AE000041196</td>\n",
       "      <td>20180101</td>\n",
       "      <td>TMAX</td>\n",
       "      <td>259</td>\n",
       "      <td>0.000022</td>\n",
       "    </tr>\n",
       "    <tr>\n",
       "      <th>1</th>\n",
       "      <td>AE000041196</td>\n",
       "      <td>20180101</td>\n",
       "      <td>TMIN</td>\n",
       "      <td>112</td>\n",
       "      <td>0.085032</td>\n",
       "    </tr>\n",
       "    <tr>\n",
       "      <th>2</th>\n",
       "      <td>AE000041196</td>\n",
       "      <td>20180101</td>\n",
       "      <td>TAVG</td>\n",
       "      <td>186</td>\n",
       "      <td>0.601353</td>\n",
       "    </tr>\n",
       "    <tr>\n",
       "      <th>3</th>\n",
       "      <td>AEM00041194</td>\n",
       "      <td>20180101</td>\n",
       "      <td>TMAX</td>\n",
       "      <td>250</td>\n",
       "      <td>0.891611</td>\n",
       "    </tr>\n",
       "    <tr>\n",
       "      <th>4</th>\n",
       "      <td>AEM00041194</td>\n",
       "      <td>20180101</td>\n",
       "      <td>PRCP</td>\n",
       "      <td>0</td>\n",
       "      <td>0.967956</td>\n",
       "    </tr>\n",
       "    <tr>\n",
       "      <th>...</th>\n",
       "      <td>...</td>\n",
       "      <td>...</td>\n",
       "      <td>...</td>\n",
       "      <td>...</td>\n",
       "      <td>...</td>\n",
       "    </tr>\n",
       "    <tr>\n",
       "      <th>35117206</th>\n",
       "      <td>WZ004455110</td>\n",
       "      <td>20181231</td>\n",
       "      <td>TAVG</td>\n",
       "      <td>244</td>\n",
       "      <td>0.895549</td>\n",
       "    </tr>\n",
       "    <tr>\n",
       "      <th>35117207</th>\n",
       "      <td>ZI000067775</td>\n",
       "      <td>20181231</td>\n",
       "      <td>TMAX</td>\n",
       "      <td>285</td>\n",
       "      <td>0.610949</td>\n",
       "    </tr>\n",
       "    <tr>\n",
       "      <th>35117208</th>\n",
       "      <td>ZI000067775</td>\n",
       "      <td>20181231</td>\n",
       "      <td>TMIN</td>\n",
       "      <td>166</td>\n",
       "      <td>0.600397</td>\n",
       "    </tr>\n",
       "    <tr>\n",
       "      <th>35117209</th>\n",
       "      <td>ZI000067775</td>\n",
       "      <td>20181231</td>\n",
       "      <td>PRCP</td>\n",
       "      <td>0</td>\n",
       "      <td>0.592128</td>\n",
       "    </tr>\n",
       "    <tr>\n",
       "      <th>35117210</th>\n",
       "      <td>ZI000067775</td>\n",
       "      <td>20181231</td>\n",
       "      <td>TAVG</td>\n",
       "      <td>226</td>\n",
       "      <td>0.652293</td>\n",
       "    </tr>\n",
       "  </tbody>\n",
       "</table>\n",
       "<p>35117211 rows × 5 columns</p>\n",
       "</div>"
      ],
      "text/plain": [
       "           station_id      date  type  val  random_col\n",
       "0         AE000041196  20180101  TMAX  259    0.000022\n",
       "1         AE000041196  20180101  TMIN  112    0.085032\n",
       "2         AE000041196  20180101  TAVG  186    0.601353\n",
       "3         AEM00041194  20180101  TMAX  250    0.891611\n",
       "4         AEM00041194  20180101  PRCP    0    0.967956\n",
       "...               ...       ...   ...  ...         ...\n",
       "35117206  WZ004455110  20181231  TAVG  244    0.895549\n",
       "35117207  ZI000067775  20181231  TMAX  285    0.610949\n",
       "35117208  ZI000067775  20181231  TMIN  166    0.600397\n",
       "35117209  ZI000067775  20181231  PRCP    0    0.592128\n",
       "35117210  ZI000067775  20181231  TAVG  226    0.652293\n",
       "\n",
       "[35117211 rows x 5 columns]"
      ]
     },
     "execution_count": 10,
     "metadata": {},
     "output_type": "execute_result"
    }
   ],
   "source": [
    "weather_df"
   ]
  },
  {
   "cell_type": "code",
   "execution_count": null,
   "id": "675d4ec7-ab46-4d10-ad0d-28bd772cdbd0",
   "metadata": {},
   "outputs": [],
   "source": []
  }
 ],
 "metadata": {
  "kernelspec": {
   "display_name": "cudf_env",
   "language": "python",
   "name": "cudf_env"
  },
  "language_info": {
   "codemirror_mode": {
    "name": "ipython",
    "version": 3
   },
   "file_extension": ".py",
   "mimetype": "text/x-python",
   "name": "python",
   "nbconvert_exporter": "python",
   "pygments_lexer": "ipython3",
   "version": "3.8.8"
  }
 },
 "nbformat": 4,
 "nbformat_minor": 5
}
