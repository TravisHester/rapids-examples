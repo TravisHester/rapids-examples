{
 "cells": [
  {
   "cell_type": "markdown",
   "id": "804a80f4-ef72-4ab5-846f-d11e4e9d95c4",
   "metadata": {},
   "source": [
    "### Downloading the data"
   ]
  },
  {
   "cell_type": "code",
   "execution_count": null,
   "id": "d321c6c8-206b-484d-a882-63bb75293546",
   "metadata": {},
   "outputs": [],
   "source": [
    "import os\n",
    "import urllib.request\n",
    "\n",
    "data_dir = \"./data/weather/\"\n",
    "if not os.path.exists(data_dir):\n",
    "    print(\"creating weather directory\")\n",
    "    os.system(\"mkdir -p ./data/weather\")\n",
    "\n",
    "# download weather observations\n",
    "base_url = \"ftp://ftp.ncdc.noaa.gov/pub/data/ghcn/daily/by_year/\"\n",
    "years = list(range(2018, 2020))\n",
    "for year in years:\n",
    "    fn = str(year) + \".csv.gz\"\n",
    "    if not os.path.isfile(data_dir + fn):\n",
    "        print(f\"Downloading {base_url+fn} to {data_dir+fn}\")\n",
    "        urllib.request.urlretrieve(base_url + fn, data_dir + fn)\n",
    "\n",
    "# download weather station metadata\n",
    "station_meta_url = (\n",
    "    \"https://www1.ncdc.noaa.gov/pub/data/ghcn/daily/ghcnd-stations.txt\"\n",
    ")\n",
    "if not os.path.isfile(data_dir + \"ghcnd-stations.txt\"):\n",
    "    print(\"Downloading station meta..\")\n",
    "    urllib.request.urlretrieve(\n",
    "        station_meta_url, data_dir + \"ghcnd-stations.txt\"\n",
    "    )"
   ]
  },
  {
   "cell_type": "markdown",
   "id": "c49e0f7f-73be-4269-b367-8cb7822b8e2f",
   "metadata": {},
   "source": [
    "### Loading into cudf\n"
   ]
  },
  {
   "cell_type": "code",
   "execution_count": 1,
   "id": "88fd77b3-fee9-411d-9292-4fa8b717cd5c",
   "metadata": {},
   "outputs": [],
   "source": [
    "import cudf\n",
    "import cupy as cp\n",
    "import pycuda.autoprimaryctx\n",
    "\n",
    "column_names = [\n",
    "    \"station_id\", \"date\",\n",
    "    \"type\", \"val\",\n",
    "    \"m_flag\", \"q_flag\",\n",
    "    \"s_flag\", \"obs_time\"\n",
    "]\n",
    "usecols = column_names[0:4]\n",
    "weather_df = cudf.read_csv('data/weather/2018.csv.gz', names=column_names, usecols=usecols)"
   ]
  },
  {
   "cell_type": "code",
   "execution_count": 2,
   "id": "3ef5095a-d5a6-4c4f-9e49-16361c3bc5be",
   "metadata": {},
   "outputs": [
    {
     "data": {
      "text/html": [
       "<div>\n",
       "<style scoped>\n",
       "    .dataframe tbody tr th:only-of-type {\n",
       "        vertical-align: middle;\n",
       "    }\n",
       "\n",
       "    .dataframe tbody tr th {\n",
       "        vertical-align: top;\n",
       "    }\n",
       "\n",
       "    .dataframe thead th {\n",
       "        text-align: right;\n",
       "    }\n",
       "</style>\n",
       "<table border=\"1\" class=\"dataframe\">\n",
       "  <thead>\n",
       "    <tr style=\"text-align: right;\">\n",
       "      <th></th>\n",
       "      <th>station_id</th>\n",
       "      <th>date</th>\n",
       "      <th>type</th>\n",
       "      <th>val</th>\n",
       "    </tr>\n",
       "  </thead>\n",
       "  <tbody>\n",
       "    <tr>\n",
       "      <th>35117206</th>\n",
       "      <td>WZ004455110</td>\n",
       "      <td>20181231</td>\n",
       "      <td>TAVG</td>\n",
       "      <td>244</td>\n",
       "    </tr>\n",
       "    <tr>\n",
       "      <th>35117207</th>\n",
       "      <td>ZI000067775</td>\n",
       "      <td>20181231</td>\n",
       "      <td>TMAX</td>\n",
       "      <td>285</td>\n",
       "    </tr>\n",
       "    <tr>\n",
       "      <th>35117208</th>\n",
       "      <td>ZI000067775</td>\n",
       "      <td>20181231</td>\n",
       "      <td>TMIN</td>\n",
       "      <td>166</td>\n",
       "    </tr>\n",
       "    <tr>\n",
       "      <th>35117209</th>\n",
       "      <td>ZI000067775</td>\n",
       "      <td>20181231</td>\n",
       "      <td>PRCP</td>\n",
       "      <td>0</td>\n",
       "    </tr>\n",
       "    <tr>\n",
       "      <th>35117210</th>\n",
       "      <td>ZI000067775</td>\n",
       "      <td>20181231</td>\n",
       "      <td>TAVG</td>\n",
       "      <td>226</td>\n",
       "    </tr>\n",
       "  </tbody>\n",
       "</table>\n",
       "</div>"
      ],
      "text/plain": [
       "           station_id      date  type  val\n",
       "35117206  WZ004455110  20181231  TAVG  244\n",
       "35117207  ZI000067775  20181231  TMAX  285\n",
       "35117208  ZI000067775  20181231  TMIN  166\n",
       "35117209  ZI000067775  20181231  PRCP    0\n",
       "35117210  ZI000067775  20181231  TAVG  226"
      ]
     },
     "execution_count": 2,
     "metadata": {},
     "output_type": "execute_result"
    }
   ],
   "source": [
    "weather_df.tail()"
   ]
  },
  {
   "cell_type": "markdown",
   "id": "d0d0c936-6454-4526-b111-b9176e60abe1",
   "metadata": {},
   "source": [
    "### Using a grid stride pattern to double all rainfall measurements"
   ]
  },
  {
   "cell_type": "code",
   "execution_count": 3,
   "id": "c2d9dee9-52b9-42c5-a506-8ffd5e73b6eb",
   "metadata": {},
   "outputs": [],
   "source": [
    "rainfall_df = weather_df[weather_df[\"type\"] == \"PRCP\"]"
   ]
  },
  {
   "cell_type": "code",
   "execution_count": 4,
   "id": "d95e019f-e9ac-45ba-9db5-7037cd385abc",
   "metadata": {},
   "outputs": [
    {
     "data": {
      "text/html": [
       "<div>\n",
       "<style scoped>\n",
       "    .dataframe tbody tr th:only-of-type {\n",
       "        vertical-align: middle;\n",
       "    }\n",
       "\n",
       "    .dataframe tbody tr th {\n",
       "        vertical-align: top;\n",
       "    }\n",
       "\n",
       "    .dataframe thead th {\n",
       "        text-align: right;\n",
       "    }\n",
       "</style>\n",
       "<table border=\"1\" class=\"dataframe\">\n",
       "  <thead>\n",
       "    <tr style=\"text-align: right;\">\n",
       "      <th></th>\n",
       "      <th>station_id</th>\n",
       "      <th>date</th>\n",
       "      <th>type</th>\n",
       "      <th>val</th>\n",
       "    </tr>\n",
       "  </thead>\n",
       "  <tbody>\n",
       "    <tr>\n",
       "      <th>35117184</th>\n",
       "      <td>WA007848390</td>\n",
       "      <td>20181231</td>\n",
       "      <td>PRCP</td>\n",
       "      <td>0</td>\n",
       "    </tr>\n",
       "    <tr>\n",
       "      <th>35117186</th>\n",
       "      <td>WA010101860</td>\n",
       "      <td>20181231</td>\n",
       "      <td>PRCP</td>\n",
       "      <td>79</td>\n",
       "    </tr>\n",
       "    <tr>\n",
       "      <th>35117190</th>\n",
       "      <td>WA012084750</td>\n",
       "      <td>20181231</td>\n",
       "      <td>PRCP</td>\n",
       "      <td>1011</td>\n",
       "    </tr>\n",
       "    <tr>\n",
       "      <th>35117198</th>\n",
       "      <td>WF000917530</td>\n",
       "      <td>20181231</td>\n",
       "      <td>PRCP</td>\n",
       "      <td>351</td>\n",
       "    </tr>\n",
       "    <tr>\n",
       "      <th>35117209</th>\n",
       "      <td>ZI000067775</td>\n",
       "      <td>20181231</td>\n",
       "      <td>PRCP</td>\n",
       "      <td>0</td>\n",
       "    </tr>\n",
       "  </tbody>\n",
       "</table>\n",
       "</div>"
      ],
      "text/plain": [
       "           station_id      date  type   val\n",
       "35117184  WA007848390  20181231  PRCP     0\n",
       "35117186  WA010101860  20181231  PRCP    79\n",
       "35117190  WA012084750  20181231  PRCP  1011\n",
       "35117198  WF000917530  20181231  PRCP   351\n",
       "35117209  ZI000067775  20181231  PRCP     0"
      ]
     },
     "execution_count": 4,
     "metadata": {},
     "output_type": "execute_result"
    }
   ],
   "source": [
    "rainfall_df.tail()"
   ]
  },
  {
   "cell_type": "code",
   "execution_count": 5,
   "id": "54d9170e-ab5c-45a4-b0d4-fa38dd52f014",
   "metadata": {},
   "outputs": [],
   "source": [
    "import pycuda.autoprimaryctx\n",
    "from pycuda.compiler import SourceModule\n",
    "\n",
    "mod = SourceModule(\"\"\"\n",
    "    __global__ void doublify(int64_t *a, int N)\n",
    "    {\n",
    "      int stride = blockDim.x * gridDim.x;\n",
    "      for (int i = blockIdx.x * blockDim.x + threadIdx.x; i < N; i += stride) {\n",
    "        if (i < N) {\n",
    "          a[i] *= 2;\n",
    "        }\n",
    "      }\n",
    "    }\n",
    "    \"\"\")\n",
    "func = mod.get_function(\"doublify\")"
   ]
  },
  {
   "cell_type": "code",
   "execution_count": 6,
   "id": "f8f6ddaf-b3b1-4783-b8c6-cd8d0633961d",
   "metadata": {},
   "outputs": [],
   "source": [
    "size = cp.int32(len(rainfall_df['val']))\n",
    "\n",
    "func(rainfall_df['val'], size, block=(256,1,1), grid=(4096,))"
   ]
  },
  {
   "cell_type": "code",
   "execution_count": 7,
   "id": "a32d0bb4-05f6-4c4c-91fb-74e125e33a49",
   "metadata": {},
   "outputs": [
    {
     "data": {
      "text/html": [
       "<div>\n",
       "<style scoped>\n",
       "    .dataframe tbody tr th:only-of-type {\n",
       "        vertical-align: middle;\n",
       "    }\n",
       "\n",
       "    .dataframe tbody tr th {\n",
       "        vertical-align: top;\n",
       "    }\n",
       "\n",
       "    .dataframe thead th {\n",
       "        text-align: right;\n",
       "    }\n",
       "</style>\n",
       "<table border=\"1\" class=\"dataframe\">\n",
       "  <thead>\n",
       "    <tr style=\"text-align: right;\">\n",
       "      <th></th>\n",
       "      <th>station_id</th>\n",
       "      <th>date</th>\n",
       "      <th>type</th>\n",
       "      <th>val</th>\n",
       "    </tr>\n",
       "  </thead>\n",
       "  <tbody>\n",
       "    <tr>\n",
       "      <th>35117184</th>\n",
       "      <td>WA007848390</td>\n",
       "      <td>20181231</td>\n",
       "      <td>PRCP</td>\n",
       "      <td>0</td>\n",
       "    </tr>\n",
       "    <tr>\n",
       "      <th>35117186</th>\n",
       "      <td>WA010101860</td>\n",
       "      <td>20181231</td>\n",
       "      <td>PRCP</td>\n",
       "      <td>158</td>\n",
       "    </tr>\n",
       "    <tr>\n",
       "      <th>35117190</th>\n",
       "      <td>WA012084750</td>\n",
       "      <td>20181231</td>\n",
       "      <td>PRCP</td>\n",
       "      <td>2022</td>\n",
       "    </tr>\n",
       "    <tr>\n",
       "      <th>35117198</th>\n",
       "      <td>WF000917530</td>\n",
       "      <td>20181231</td>\n",
       "      <td>PRCP</td>\n",
       "      <td>702</td>\n",
       "    </tr>\n",
       "    <tr>\n",
       "      <th>35117209</th>\n",
       "      <td>ZI000067775</td>\n",
       "      <td>20181231</td>\n",
       "      <td>PRCP</td>\n",
       "      <td>0</td>\n",
       "    </tr>\n",
       "  </tbody>\n",
       "</table>\n",
       "</div>"
      ],
      "text/plain": [
       "           station_id      date  type   val\n",
       "35117184  WA007848390  20181231  PRCP     0\n",
       "35117186  WA010101860  20181231  PRCP   158\n",
       "35117190  WA012084750  20181231  PRCP  2022\n",
       "35117198  WF000917530  20181231  PRCP   702\n",
       "35117209  ZI000067775  20181231  PRCP     0"
      ]
     },
     "execution_count": 7,
     "metadata": {},
     "output_type": "execute_result"
    }
   ],
   "source": [
    "rainfall_df.tail()"
   ]
  },
  {
   "cell_type": "markdown",
   "id": "44611ab2-d2c0-4518-a1f2-190d703dfb91",
   "metadata": {},
   "source": [
    "### Let's try a more complex operation, converting the measurements to inches"
   ]
  },
  {
   "cell_type": "code",
   "execution_count": 71,
   "id": "645c8e26-ab59-4c2a-8dfa-f46eec4c223b",
   "metadata": {},
   "outputs": [],
   "source": [
    "weather_df = cudf.read_csv('data/weather/2018.csv.gz', names=column_names, usecols=usecols)\n",
    "\n",
    "# cast val to float\n",
    "rainfall_df = weather_df[weather_df[\"type\"] == \"PRCP\"].astype({'val': 'float64'})"
   ]
  },
  {
   "cell_type": "code",
   "execution_count": 72,
   "id": "6b678cd5-3ab3-420d-80b6-6264417542b0",
   "metadata": {},
   "outputs": [
    {
     "data": {
      "text/html": [
       "<div>\n",
       "<style scoped>\n",
       "    .dataframe tbody tr th:only-of-type {\n",
       "        vertical-align: middle;\n",
       "    }\n",
       "\n",
       "    .dataframe tbody tr th {\n",
       "        vertical-align: top;\n",
       "    }\n",
       "\n",
       "    .dataframe thead th {\n",
       "        text-align: right;\n",
       "    }\n",
       "</style>\n",
       "<table border=\"1\" class=\"dataframe\">\n",
       "  <thead>\n",
       "    <tr style=\"text-align: right;\">\n",
       "      <th></th>\n",
       "      <th>station_id</th>\n",
       "      <th>date</th>\n",
       "      <th>type</th>\n",
       "      <th>val</th>\n",
       "    </tr>\n",
       "  </thead>\n",
       "  <tbody>\n",
       "    <tr>\n",
       "      <th>35117184</th>\n",
       "      <td>WA007848390</td>\n",
       "      <td>20181231</td>\n",
       "      <td>PRCP</td>\n",
       "      <td>0.0</td>\n",
       "    </tr>\n",
       "    <tr>\n",
       "      <th>35117186</th>\n",
       "      <td>WA010101860</td>\n",
       "      <td>20181231</td>\n",
       "      <td>PRCP</td>\n",
       "      <td>79.0</td>\n",
       "    </tr>\n",
       "    <tr>\n",
       "      <th>35117190</th>\n",
       "      <td>WA012084750</td>\n",
       "      <td>20181231</td>\n",
       "      <td>PRCP</td>\n",
       "      <td>1011.0</td>\n",
       "    </tr>\n",
       "    <tr>\n",
       "      <th>35117198</th>\n",
       "      <td>WF000917530</td>\n",
       "      <td>20181231</td>\n",
       "      <td>PRCP</td>\n",
       "      <td>351.0</td>\n",
       "    </tr>\n",
       "    <tr>\n",
       "      <th>35117209</th>\n",
       "      <td>ZI000067775</td>\n",
       "      <td>20181231</td>\n",
       "      <td>PRCP</td>\n",
       "      <td>0.0</td>\n",
       "    </tr>\n",
       "  </tbody>\n",
       "</table>\n",
       "</div>"
      ],
      "text/plain": [
       "           station_id      date  type     val\n",
       "35117184  WA007848390  20181231  PRCP     0.0\n",
       "35117186  WA010101860  20181231  PRCP    79.0\n",
       "35117190  WA012084750  20181231  PRCP  1011.0\n",
       "35117198  WF000917530  20181231  PRCP   351.0\n",
       "35117209  ZI000067775  20181231  PRCP     0.0"
      ]
     },
     "execution_count": 72,
     "metadata": {},
     "output_type": "execute_result"
    }
   ],
   "source": [
    "rainfall_df.tail()"
   ]
  },
  {
   "cell_type": "code",
   "execution_count": 73,
   "id": "5afd1261-4775-43a2-a8a3-1739697d8098",
   "metadata": {},
   "outputs": [],
   "source": [
    "mod2 = SourceModule(\"\"\"\n",
    "    static constexpr float mm_to_inches_factor = 0.0393701;\n",
    "\n",
    "    __global__ void mm_to_inches(double *a, int N)\n",
    "    {\n",
    "      int stride = blockDim.x * gridDim.x;\n",
    "      for (int i = blockIdx.x * blockDim.x + threadIdx.x; i < N; i += stride) {\n",
    "        if (i < N) {\n",
    "          a[i] = a[i] * mm_to_inches_factor * 0.1;\n",
    "        }\n",
    "      }\n",
    "    }\n",
    "    \"\"\")\n",
    "func = mod2.get_function(\"mm_to_inches\")"
   ]
  },
  {
   "cell_type": "code",
   "execution_count": 74,
   "id": "698be71b-a2bb-4f84-bd7c-583435a67a7c",
   "metadata": {},
   "outputs": [],
   "source": [
    "func(rainfall_df['val'], size, block=(256,1,1), grid=(4096,))"
   ]
  },
  {
   "cell_type": "code",
   "execution_count": 75,
   "id": "ed86174a-74a4-402e-8fae-68a18bd8fe46",
   "metadata": {},
   "outputs": [
    {
     "data": {
      "text/html": [
       "<div>\n",
       "<style scoped>\n",
       "    .dataframe tbody tr th:only-of-type {\n",
       "        vertical-align: middle;\n",
       "    }\n",
       "\n",
       "    .dataframe tbody tr th {\n",
       "        vertical-align: top;\n",
       "    }\n",
       "\n",
       "    .dataframe thead th {\n",
       "        text-align: right;\n",
       "    }\n",
       "</style>\n",
       "<table border=\"1\" class=\"dataframe\">\n",
       "  <thead>\n",
       "    <tr style=\"text-align: right;\">\n",
       "      <th></th>\n",
       "      <th>station_id</th>\n",
       "      <th>date</th>\n",
       "      <th>type</th>\n",
       "      <th>val</th>\n",
       "    </tr>\n",
       "  </thead>\n",
       "  <tbody>\n",
       "    <tr>\n",
       "      <th>35117184</th>\n",
       "      <td>WA007848390</td>\n",
       "      <td>20181231</td>\n",
       "      <td>PRCP</td>\n",
       "      <td>0.000000</td>\n",
       "    </tr>\n",
       "    <tr>\n",
       "      <th>35117186</th>\n",
       "      <td>WA010101860</td>\n",
       "      <td>20181231</td>\n",
       "      <td>PRCP</td>\n",
       "      <td>0.311024</td>\n",
       "    </tr>\n",
       "    <tr>\n",
       "      <th>35117190</th>\n",
       "      <td>WA012084750</td>\n",
       "      <td>20181231</td>\n",
       "      <td>PRCP</td>\n",
       "      <td>3.980317</td>\n",
       "    </tr>\n",
       "    <tr>\n",
       "      <th>35117198</th>\n",
       "      <td>WF000917530</td>\n",
       "      <td>20181231</td>\n",
       "      <td>PRCP</td>\n",
       "      <td>1.381891</td>\n",
       "    </tr>\n",
       "    <tr>\n",
       "      <th>35117209</th>\n",
       "      <td>ZI000067775</td>\n",
       "      <td>20181231</td>\n",
       "      <td>PRCP</td>\n",
       "      <td>0.000000</td>\n",
       "    </tr>\n",
       "  </tbody>\n",
       "</table>\n",
       "</div>"
      ],
      "text/plain": [
       "           station_id      date  type       val\n",
       "35117184  WA007848390  20181231  PRCP  0.000000\n",
       "35117186  WA010101860  20181231  PRCP  0.311024\n",
       "35117190  WA012084750  20181231  PRCP  3.980317\n",
       "35117198  WF000917530  20181231  PRCP  1.381891\n",
       "35117209  ZI000067775  20181231  PRCP  0.000000"
      ]
     },
     "execution_count": 75,
     "metadata": {},
     "output_type": "execute_result"
    }
   ],
   "source": [
    "rainfall_df.tail()"
   ]
  },
  {
   "cell_type": "code",
   "execution_count": null,
   "id": "0092c6fd-df76-4201-9714-1eff838b86f4",
   "metadata": {},
   "outputs": [],
   "source": []
  }
 ],
 "metadata": {
  "kernelspec": {
   "display_name": "cudf_env",
   "language": "python",
   "name": "cudf_env"
  },
  "language_info": {
   "codemirror_mode": {
    "name": "ipython",
    "version": 3
   },
   "file_extension": ".py",
   "mimetype": "text/x-python",
   "name": "python",
   "nbconvert_exporter": "python",
   "pygments_lexer": "ipython3",
   "version": "3.8.8"
  }
 },
 "nbformat": 4,
 "nbformat_minor": 5
}
