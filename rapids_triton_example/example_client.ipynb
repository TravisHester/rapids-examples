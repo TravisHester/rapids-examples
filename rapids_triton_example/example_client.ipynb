{
 "cells": [
  {
   "cell_type": "markdown",
   "id": "cf45364f-bbf7-458c-9c35-e475c102484c",
   "metadata": {},
   "source": [
    "# Example Notebook to show how to use RAPIDS with Triton"
   ]
  },
  {
   "cell_type": "markdown",
   "id": "df2ca165-da53-4319-823a-8bb670386ca0",
   "metadata": {},
   "source": [
    "### Client Setup"
   ]
  },
  {
   "cell_type": "code",
   "execution_count": 1,
   "id": "60080a0e-9c82-4290-b4cd-21fc66599817",
   "metadata": {},
   "outputs": [],
   "source": [
    "# !pip install nvidia-pyindex\n",
    "# !pip install tritonclient[all]"
   ]
  },
  {
   "cell_type": "markdown",
   "id": "13897c7a-e6e6-4220-97e3-647f40d51488",
   "metadata": {},
   "source": [
    "### Import Libraries"
   ]
  },
  {
   "cell_type": "code",
   "execution_count": 2,
   "id": "67753be1-6a95-4744-8987-f3d66b997dbf",
   "metadata": {},
   "outputs": [],
   "source": [
    "import numpy as np\n",
    "import json\n",
    "\n",
    "import grpc\n",
    "from tritonclient.grpc import service_pb2\n",
    "from tritonclient.grpc import service_pb2_grpc\n",
    "import tritonclient.grpc as grpcclient\n",
    "from functools import partial"
   ]
  },
  {
   "cell_type": "markdown",
   "id": "eb2ee0ed-1ad1-4bfb-86ee-8b9c4787132c",
   "metadata": {},
   "source": [
    "###  Connect to the Triton( Rapids CuDF)  Model "
   ]
  },
  {
   "cell_type": "code",
   "execution_count": 3,
   "id": "800b69f8-4e40-42f4-a5b0-3ab1df020f99",
   "metadata": {},
   "outputs": [],
   "source": [
    "url='localhost:8001'\n",
    "\n",
    "triton_client = grpcclient.InferenceServerClient(url=url,verbose=False)\n",
    "\n",
    "channel = grpc.insecure_channel(url)\n",
    "grpc_stub = service_pb2_grpc.GRPCInferenceServiceStub(channel)"
   ]
  },
  {
   "cell_type": "code",
   "execution_count": 4,
   "id": "f9435c10-adef-4d23-a225-35905d0abafc",
   "metadata": {},
   "outputs": [
    {
     "name": "stdout",
     "output_type": "stream",
     "text": [
      "model metadata:\n",
      "name: \"rapids_tokenizer\"\n",
      "versions: \"1\"\n",
      "platform: \"python\"\n",
      "inputs {\n",
      "  name: \"raw_logs\"\n",
      "  datatype: \"BYTES\"\n",
      "  shape: -1\n",
      "}\n",
      "outputs {\n",
      "  name: \"input_ids\"\n",
      "  datatype: \"INT32\"\n",
      "  shape: -1\n",
      "  shape: 256\n",
      "}\n",
      "outputs {\n",
      "  name: \"attention_mask\"\n",
      "  datatype: \"INT32\"\n",
      "  shape: -1\n",
      "  shape: 256\n",
      "}\n",
      "outputs {\n",
      "  name: \"metadata\"\n",
      "  datatype: \"INT32\"\n",
      "  shape: -1\n",
      "  shape: 3\n",
      "}\n",
      "\n"
     ]
    }
   ],
   "source": [
    "preprocessing_model = 'rapids_tokenizer'\n",
    "request = service_pb2.ModelMetadataRequest(name=preprocessing_model,\n",
    "                                           version='1')\n",
    "response = grpc_stub.ModelMetadata(request)\n",
    "print(\"model metadata:\\n{}\".format(response))"
   ]
  },
  {
   "cell_type": "markdown",
   "id": "3328c4d8-df21-49d7-b64a-21919fc1fc83",
   "metadata": {},
   "source": [
    "## Send Request to Model "
   ]
  },
  {
   "cell_type": "markdown",
   "id": "13a429b4-edc9-4518-9dd5-03df58956c65",
   "metadata": {},
   "source": [
    "### Prepare Input "
   ]
  },
  {
   "cell_type": "markdown",
   "id": "e448f01c-39db-4e05-8cba-d1685ef29dd8",
   "metadata": {},
   "source": [
    "### Request Sending Function"
   ]
  },
  {
   "cell_type": "code",
   "execution_count": 5,
   "id": "9f88224e-5b55-4f23-8036-ff36ef97d3a7",
   "metadata": {},
   "outputs": [],
   "source": [
    "log_ls = ['Test sentence 1', 'Test sentence 2', 'Test sentence 3', 'Test sentence 4', 'Test sentence 5']\n",
    "log_ls = [l.encode('utf-8') for l in log_ls]\n",
    "log_ar = np.array(log_ls).reshape(len(log_ls))"
   ]
  },
  {
   "cell_type": "code",
   "execution_count": 6,
   "id": "a1ad33b0-a115-48c6-a042-c626ac8d4010",
   "metadata": {},
   "outputs": [],
   "source": [
    "def callback(output, result, error):\n",
    "    if error:\n",
    "        output.append(error)\n",
    "    else:\n",
    "        output.append(result)\n",
    "\n",
    "\n",
    "    \n",
    "def send_preprocess_requet(log_ar, model_name='rapids_tokenizer'):\n",
    "    triton_client = grpcclient.InferenceServerClient(url=url,verbose=False)\n",
    "    input_grpc = grpcclient.InferInput(\"raw_logs\",log_ar.shape,\"BYTES\")\n",
    "    input_grpc.set_data_from_numpy(log_ar)\n",
    "    outputs = []\n",
    "    \n",
    "\n",
    "    outputs.append(grpcclient.InferRequestedOutput('input_ids'))\n",
    "    outputs.append(grpcclient.InferRequestedOutput('attention_mask'))\n",
    "    outputs.append(grpcclient.InferRequestedOutput('metadata'))\n",
    "    \n",
    "    output = triton_client.infer(model_name=model_name,\n",
    "                               inputs=[input_grpc],\n",
    "                              outputs=outputs)\n",
    "    \n",
    "    # do below for async request\n",
    "    # list to hold the results of inference.\n",
    "    # output = []\n",
    "    # triton_client.async_infer(model_name=model_name,\n",
    "    #                   inputs=[input_grpc],\n",
    "    #                   outputs=outputs,\n",
    "    #                   callback=partial(callback, output),)   \n",
    "\n",
    "    return output"
   ]
  },
  {
   "cell_type": "code",
   "execution_count": 7,
   "id": "5d40a4e9-c83c-4dab-890e-a7445796df17",
   "metadata": {},
   "outputs": [
    {
     "name": "stdout",
     "output_type": "stream",
     "text": [
      "2.62 ms ± 474 µs per loop (mean ± std. dev. of 7 runs, 1000 loops each)\n"
     ]
    }
   ],
   "source": [
    "%%timeit\n",
    "output = send_preprocess_requet(log_ar)"
   ]
  },
  {
   "cell_type": "code",
   "execution_count": 8,
   "id": "d0a004f7-80cb-4271-9eb4-947f5a80b88b",
   "metadata": {},
   "outputs": [],
   "source": [
    "output = send_preprocess_requet(log_ar)"
   ]
  },
  {
   "cell_type": "markdown",
   "id": "e26d681d-8d82-4dcf-9242-ca2def348a38",
   "metadata": {},
   "source": [
    "##  Outputs"
   ]
  },
  {
   "cell_type": "code",
   "execution_count": 9,
   "id": "4d8d07d2-0f6a-43fc-9b44-96875b4a41fe",
   "metadata": {},
   "outputs": [
    {
     "data": {
      "text/plain": [
       "array([[2774, 5650,  122, ...,    0,    0,    0],\n",
       "       [2774, 5650,  123, ...,    0,    0,    0],\n",
       "       [2774, 5650,  124, ...,    0,    0,    0],\n",
       "       [2774, 5650,  125, ...,    0,    0,    0],\n",
       "       [2774, 5650,  126, ...,    0,    0,    0]], dtype=uint32)"
      ]
     },
     "execution_count": 9,
     "metadata": {},
     "output_type": "execute_result"
    }
   ],
   "source": [
    "input_ids = output.as_numpy('input_ids')\n",
    "attention_mask = output.as_numpy('attention_mask')\n",
    "metadata = output.as_numpy('metadata')\n",
    "input_ids"
   ]
  },
  {
   "cell_type": "code",
   "execution_count": 10,
   "id": "f34a2cfc-e7e7-404e-99b4-f7232b5ae6f8",
   "metadata": {},
   "outputs": [
    {
     "data": {
      "text/plain": [
       "array([[1, 1, 1, ..., 0, 0, 0],\n",
       "       [1, 1, 1, ..., 0, 0, 0],\n",
       "       [1, 1, 1, ..., 0, 0, 0],\n",
       "       [1, 1, 1, ..., 0, 0, 0],\n",
       "       [1, 1, 1, ..., 0, 0, 0]], dtype=uint32)"
      ]
     },
     "execution_count": 10,
     "metadata": {},
     "output_type": "execute_result"
    }
   ],
   "source": [
    "attention_mask"
   ]
  },
  {
   "cell_type": "code",
   "execution_count": 11,
   "id": "632ff0a8-05a6-4f97-9352-b9c1e6b0d22a",
   "metadata": {},
   "outputs": [
    {
     "data": {
      "text/plain": [
       "array([[0, 0, 2],\n",
       "       [1, 0, 2],\n",
       "       [2, 0, 2],\n",
       "       [3, 0, 2],\n",
       "       [4, 0, 2]], dtype=uint32)"
      ]
     },
     "execution_count": 11,
     "metadata": {},
     "output_type": "execute_result"
    }
   ],
   "source": [
    "metadata"
   ]
  }
 ],
 "metadata": {
  "kernelspec": {
   "display_name": "Python 3",
   "language": "python",
   "name": "python3"
  },
  "language_info": {
   "codemirror_mode": {
    "name": "ipython",
    "version": 3
   },
   "file_extension": ".py",
   "mimetype": "text/x-python",
   "name": "python",
   "nbconvert_exporter": "python",
   "pygments_lexer": "ipython3",
   "version": "3.8.8"
  }
 },
 "nbformat": 4,
 "nbformat_minor": 5
}
